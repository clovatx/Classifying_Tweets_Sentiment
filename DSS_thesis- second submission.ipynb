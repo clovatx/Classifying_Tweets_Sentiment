{
 "cells": [
  {
   "cell_type": "markdown",
   "metadata": {
    "id": "pFi5aSkPqrVP"
   },
   "source": [
    "DSS THESIS"
   ]
  },
  {
   "cell_type": "markdown",
   "metadata": {
    "id": "PbmfDlW1zW5l"
   },
   "source": [
    "*Packages and preparation*"
   ]
  },
  {
   "cell_type": "code",
   "execution_count": 1,
   "metadata": {
    "id": "XAA2qmrjQ2gr",
    "scrolled": true
   },
   "outputs": [],
   "source": [
    "# importing packages\n",
    "from datetime import datetime\n",
    "from dateutil.parser import parse\n",
    "import matplotlib.pyplot as plt\n",
    "from nltk.corpus import stopwords\n",
    "import numpy as np # for mathematical operations\n",
    "import pandas as pd # for dataframe processing\n",
    "import re\n",
    "import seaborn as sns\n",
    "import sklearn\n",
    "from sklearn import metrics\n",
    "from sklearn import model_selection\n",
    "from sklearn.ensemble import ExtraTreesClassifier\n",
    "from sklearn.ensemble import RandomForestClassifier\n",
    "from sklearn.feature_extraction.text import CountVectorizer\n",
    "from sklearn.feature_extraction.text import TfidfTransformer\n",
    "from sklearn.feature_extraction.text import TfidfVectorizer\n",
    "from sklearn.model_selection import train_test_split\n",
    "from sklearn.naive_bayes import MultinomialNB\n",
    "import spacy\n",
    "import string\n",
    "from scipy.sparse import csr_matrix\n",
    "from sklearn.ensemble import RandomForestClassifier\n",
    "from sklearn.naive_bayes import MultinomialNB\n",
    "from sklearn import model_selection\n",
    "from sklearn.utils import class_weight\n",
    "from sklearn.metrics import classification_report\n",
    "from sklearn.metrics import confusion_matrix, ConfusionMatrixDisplay\n",
    "import numpy as np\n",
    "import pandas as pd\n",
    "from sklearn.model_selection import train_test_split\n",
    "from sklearn.metrics import RocCurveDisplay\n",
    "from sklearn.metrics import roc_curve\n",
    "from sklearn.metrics import roc_auc_score\n",
    "from sklearn.linear_model import LinearRegression\n",
    "from sklearn.dummy import DummyClassifier\n",
    "from sklearn.model_selection import GridSearchCV\n",
    "\n",
    "pd.options.display.max_columns = None\n",
    "seed = 123456"
   ]
  },
  {
   "cell_type": "markdown",
   "metadata": {
    "id": "yz-Jm2nJqyod"
   },
   "source": [
    "*Dataframe initialization*"
   ]
  },
  {
   "cell_type": "code",
   "execution_count": 2,
   "metadata": {
    "id": "Asy6ASYJRhrB",
    "scrolled": true
   },
   "outputs": [],
   "source": [
    "# loading dataframes /anti /pro\n",
    "\n",
    "antidf = pd.read_csv('anti.csv', sep = \";\", index_col = 0, low_memory = False)\n",
    "prodf = pd.read_csv('pro.csv', sep = \";\", index_col = 0, low_memory = False)"
   ]
  },
  {
   "cell_type": "code",
   "execution_count": 3,
   "metadata": {
    "id": "K0QqcO91RhtR",
    "scrolled": true
   },
   "outputs": [],
   "source": [
    "# coding sentiment\n",
    "antidf['sentiment'] = np.ones(antidf.shape[0]) # coding 1 for negative sentiment\n",
    "prodf['sentiment'] = np.zeros(prodf.shape[0]) # coding 0 for positive sentiment\n",
    "\n",
    "# merging dataframes for main dataframe\n",
    "full_df = pd.concat([antidf, prodf])"
   ]
  },
  {
   "cell_type": "markdown",
   "metadata": {},
   "source": [
    "EDA & Data cleaning"
   ]
  },
  {
   "cell_type": "code",
   "execution_count": 4,
   "metadata": {
    "scrolled": false
   },
   "outputs": [
    {
     "data": {
      "text/plain": [
       "coordinates                    99.92\n",
       "created_at                      0.00\n",
       "hashtags                       29.00\n",
       "media                          90.15\n",
       "urls                           88.41\n",
       "favorite_count                  0.00\n",
       "id                              0.00\n",
       "in_reply_to_screen_name        93.04\n",
       "in_reply_to_status_id          93.48\n",
       "in_reply_to_user_id            93.04\n",
       "lang                            0.00\n",
       "place                          99.10\n",
       "possibly_sensitive             80.04\n",
       "quote_id                       89.16\n",
       "retweet_count                   0.00\n",
       "retweet_id                     30.40\n",
       "retweet_screen_name            30.40\n",
       "source                          0.00\n",
       "text                            0.00\n",
       "tweet_url                       0.00\n",
       "user_created_at                 0.00\n",
       "user_id                         0.00\n",
       "user_default_profile_image      0.00\n",
       "user_description               19.60\n",
       "user_favourites_count           0.00\n",
       "user_followers_count            0.00\n",
       "user_friends_count              0.00\n",
       "user_listed_count               0.00\n",
       "user_location                  47.13\n",
       "user_name                       0.04\n",
       "user_screen_name                0.00\n",
       "user_statuses_count             0.00\n",
       "user_time_zone                100.00\n",
       "user_urls                      86.65\n",
       "user_verified                   0.00\n",
       "sentiment                       0.00\n",
       "dtype: float64"
      ]
     },
     "execution_count": 4,
     "metadata": {},
     "output_type": "execute_result"
    }
   ],
   "source": [
    "# is na\n",
    "(full_df.isna().sum()*100/len(full_df)).round(2)"
   ]
  },
  {
   "cell_type": "code",
   "execution_count": 5,
   "metadata": {
    "scrolled": false
   },
   "outputs": [
    {
     "data": {
      "text/plain": [
       "31.56388373274709"
      ]
     },
     "execution_count": 5,
     "metadata": {},
     "output_type": "execute_result"
    }
   ],
   "source": [
    "# to account for retweets and duplicates\n",
    "full_df['text'].nunique()*100/len(full_df)"
   ]
  },
  {
   "cell_type": "code",
   "execution_count": 6,
   "metadata": {
    "scrolled": true
   },
   "outputs": [],
   "source": [
    "# removing duplicated in text\n",
    "full_df.drop_duplicates(subset = ['text'], keep = 'first', inplace = True)"
   ]
  },
  {
   "cell_type": "code",
   "execution_count": 7,
   "metadata": {
    "scrolled": true
   },
   "outputs": [],
   "source": [
    "# removing columns with notna < 0.5\n",
    "full_df.dropna(axis = 'columns', thresh = (full_df.shape[0]*0.5), inplace = True)"
   ]
  },
  {
   "cell_type": "code",
   "execution_count": 8,
   "metadata": {
    "id": "iHq2aFYJRhx7",
    "scrolled": true
   },
   "outputs": [],
   "source": [
    "# dropping nas in rows\n",
    "full_df = full_df[full_df['user_description'].notna()]\n",
    "\n",
    "# removing noisy variables\n",
    "# user_location = rarely available\n",
    "# lang = same value all over\n",
    "# names, id, and user created at - identifing author\n",
    "# user desctiption, extra textual variable \n",
    "# hashtags correlation too high\n",
    "full_df.drop(columns = ['user_location', 'user_description', 'lang', 'user_screen_name', 'source', 'tweet_url', \n",
    "                        'user_id', 'user_name', 'hashtags', 'user_created_at', 'id'], inplace = True)"
   ]
  },
  {
   "cell_type": "code",
   "execution_count": 9,
   "metadata": {},
   "outputs": [],
   "source": [
    "# cleaning date variable\n",
    "\n",
    "# defining get date function\n",
    "def getdate(x):\n",
    "    dt = parse(x)\n",
    "    return dt.date()\n",
    "\n",
    "# applying get date function\n",
    "full_df['created_at'] = full_df['created_at'].apply(lambda x: getdate(x))"
   ]
  },
  {
   "cell_type": "code",
   "execution_count": 10,
   "metadata": {
    "scrolled": false
   },
   "outputs": [
    {
     "data": {
      "text/plain": [
       "[<matplotlib.lines.Line2D at 0x1a3d68e56a0>]"
      ]
     },
     "execution_count": 10,
     "metadata": {},
     "output_type": "execute_result"
    },
    {
     "data": {
      "image/png": "[encoded data removed]",
      "text/plain": [
       "<Figure size 720x720 with 1 Axes>"
      ]
     },
     "metadata": {
      "needs_background": "light"
     },
     "output_type": "display_data"
    }
   ],
   "source": [
    "# plotting time range + sentiment\n",
    "# distribution\n",
    "dist = full_df['sentiment'].groupby(full_df['created_at'])\n",
    "\n",
    "# figure\n",
    "fig = plt.figure(figsize=(10,10)) # size\n",
    "plt.xlabel('Date')\n",
    "plt.ylabel('Tweets')\n",
    "# plt.title('Tweet distribution per date') # title\n",
    "plt.plot(dist.count(), linestyle = 'solid') # plot\n",
    "#fig.savefig('dates.png', dpi=fig.dpi) # save"
   ]
  },
  {
   "cell_type": "code",
   "execution_count": 11,
   "metadata": {},
   "outputs": [],
   "source": [
    "# datetime to integer for model purposes\n",
    "full_df['created_at'] = pd.to_datetime(full_df[\"created_at\"]).dt.strftime(\"%Y%m%d\").astype(int)"
   ]
  },
  {
   "cell_type": "code",
   "execution_count": 12,
   "metadata": {},
   "outputs": [],
   "source": [
    "# on to text variable \n",
    "# defining cleaning text function\n",
    "def clean_text(text):\n",
    "    if type(text) == float:\n",
    "        return \"\"\n",
    "    temp = text.lower() #to lowercase all text\n",
    "    temp = re.sub(\"'\", \" \", temp) # to avoid removing contractions\n",
    "    temp = re.sub(\"@[a-z0-9_]+\",\"\", temp) # to remove mentions\n",
    "    temp = re.sub(\"#[a-z0-9_]+\",\"\", temp) # to remove hashtags\n",
    "    temp = re.sub(r'http\\S+', '', temp) # to remove links\n",
    "    temp = re.sub(r\"www.\\S+\", \"\", temp) # to remove links\n",
    "    temp = re.sub('\\n', ' ', temp) # to remove enters\n",
    "    temp = re.sub('[^a-z0-9àèìòù]', ' ', temp) # to remove non-alphanumeric characters\n",
    "    temp = re.sub('[()!?]', ' ', temp) # to remove punctuation\n",
    "    temp = re.sub('\\[.*?\\]',' ', temp) # to remove punctuation\n",
    "    temp = temp.split() # tokenization\n",
    "    temp = [w for w in temp if not w in stopwords.words(\"italian\")] # to remove stopwords\n",
    "    temp = \" \".join(word for word in temp) # to rejoin tokens\n",
    "    return temp\n",
    "\n",
    "# defining lemmatization function\n",
    "nlp = spacy.load('it_core_news_lg')\n",
    "def lemmatization(inp):\n",
    "    if type(inp) == None:\n",
    "        return \"\"\n",
    "    doc = nlp(inp)\n",
    "    return \" \".join(token.lemma_ for token in doc)"
   ]
  },
  {
   "cell_type": "code",
   "execution_count": 13,
   "metadata": {
    "scrolled": true
   },
   "outputs": [],
   "source": [
    "# applying cleaning text function to text\n",
    "full_df['clean_text'] = full_df['text'].apply(lambda x:clean_text(x))\n",
    "\n",
    "# applying lemmatization function to text and user description\n",
    "full_df['lemmatized_text'] = full_df['clean_text'].apply(lambda x: lemmatization(x))\n",
    "\n",
    "# dropping recoded variables\n",
    "full_df.drop(columns = ['text', 'clean_text'], inplace = True)"
   ]
  },
  {
   "cell_type": "code",
   "execution_count": 14,
   "metadata": {},
   "outputs": [
    {
     "data": {
      "text/plain": [
       "0.0    13116\n",
       "1.0    12915\n",
       "Name: sentiment, dtype: int64"
      ]
     },
     "execution_count": 14,
     "metadata": {},
     "output_type": "execute_result"
    }
   ],
   "source": [
    "# distribution of sentiment on clean df\n",
    "full_df['sentiment'].value_counts()"
   ]
  },
  {
   "cell_type": "code",
   "execution_count": 15,
   "metadata": {
    "scrolled": true
   },
   "outputs": [],
   "source": [
    "# resampling clean df with balanced sentiment classes\n",
    "full_df = full_df.groupby('sentiment').sample(n = 12500, random_state = seed).reset_index(drop = True)\n",
    "\n",
    "# shuffling clean df\n",
    "full_df = full_df.sample(frac = 1, random_state = seed).reset_index(drop = True)"
   ]
  },
  {
   "cell_type": "code",
   "execution_count": 16,
   "metadata": {
    "scrolled": true
   },
   "outputs": [],
   "source": [
    "full_df.to_csv('dss_thesis_full_finaldata.csv', sep = \";\")"
   ]
  },
  {
   "cell_type": "markdown",
   "metadata": {},
   "source": [
    "*Dataframe initialization + baseline*"
   ]
  },
  {
   "cell_type": "code",
   "execution_count": 17,
   "metadata": {
    "execution": {
     "iopub.execute_input": "2022-05-12T13:28:58.557418Z",
     "iopub.status.busy": "2022-05-12T13:28:58.556857Z",
     "iopub.status.idle": "2022-05-12T13:28:58.766399Z",
     "shell.execute_reply": "2022-05-12T13:28:58.765493Z",
     "shell.execute_reply.started": "2022-05-12T13:28:58.557380Z"
    },
    "scrolled": true
   },
   "outputs": [],
   "source": [
    "df = pd.read_csv('dss_thesis_full_finaldata.csv',  sep = \";\" ,index_col = 0, low_memory = False)\n",
    "df = df.fillna(\" \")"
   ]
  },
  {
   "cell_type": "code",
   "execution_count": 18,
   "metadata": {},
   "outputs": [
    {
     "data": {
      "text/html": [
       "<div>\n",
       "<style scoped>\n",
       "    .dataframe tbody tr th:only-of-type {\n",
       "        vertical-align: middle;\n",
       "    }\n",
       "\n",
       "    .dataframe tbody tr th {\n",
       "        vertical-align: top;\n",
       "    }\n",
       "\n",
       "    .dataframe thead th {\n",
       "        text-align: right;\n",
       "    }\n",
       "</style>\n",
       "<table border=\"1\" class=\"dataframe\">\n",
       "  <thead>\n",
       "    <tr style=\"text-align: right;\">\n",
       "      <th></th>\n",
       "      <th>created_at</th>\n",
       "      <th>favorite_count</th>\n",
       "      <th>retweet_count</th>\n",
       "      <th>user_default_profile_image</th>\n",
       "      <th>user_favourites_count</th>\n",
       "      <th>user_followers_count</th>\n",
       "      <th>user_friends_count</th>\n",
       "      <th>user_listed_count</th>\n",
       "      <th>user_statuses_count</th>\n",
       "      <th>user_verified</th>\n",
       "      <th>sentiment</th>\n",
       "      <th>lemmatized_text</th>\n",
       "    </tr>\n",
       "  </thead>\n",
       "  <tbody>\n",
       "    <tr>\n",
       "      <th>0</th>\n",
       "      <td>20210711</td>\n",
       "      <td>1</td>\n",
       "      <td>0</td>\n",
       "      <td>False</td>\n",
       "      <td>1061</td>\n",
       "      <td>73</td>\n",
       "      <td>83</td>\n",
       "      <td>0</td>\n",
       "      <td>1402</td>\n",
       "      <td>False</td>\n",
       "      <td>0.0</td>\n",
       "      <td>ieri sabato 10 luglio 449 590 vaccinazione ecc...</td>\n",
       "    </tr>\n",
       "    <tr>\n",
       "      <th>1</th>\n",
       "      <td>20210311</td>\n",
       "      <td>0</td>\n",
       "      <td>5</td>\n",
       "      <td>False</td>\n",
       "      <td>59010</td>\n",
       "      <td>5094</td>\n",
       "      <td>1094</td>\n",
       "      <td>126</td>\n",
       "      <td>198424</td>\n",
       "      <td>False</td>\n",
       "      <td>0.0</td>\n",
       "      <td>propaganda fare vaccino vergognoso spiace part...</td>\n",
       "    </tr>\n",
       "    <tr>\n",
       "      <th>2</th>\n",
       "      <td>20210912</td>\n",
       "      <td>0</td>\n",
       "      <td>0</td>\n",
       "      <td>False</td>\n",
       "      <td>462</td>\n",
       "      <td>18</td>\n",
       "      <td>57</td>\n",
       "      <td>0</td>\n",
       "      <td>195</td>\n",
       "      <td>False</td>\n",
       "      <td>0.0</td>\n",
       "      <td>continuare parlare accorgere dato convergere v...</td>\n",
       "    </tr>\n",
       "    <tr>\n",
       "      <th>3</th>\n",
       "      <td>20210921</td>\n",
       "      <td>0</td>\n",
       "      <td>0</td>\n",
       "      <td>False</td>\n",
       "      <td>1765</td>\n",
       "      <td>50</td>\n",
       "      <td>79</td>\n",
       "      <td>0</td>\n",
       "      <td>2649</td>\n",
       "      <td>False</td>\n",
       "      <td>1.0</td>\n",
       "      <td>dissocio</td>\n",
       "    </tr>\n",
       "    <tr>\n",
       "      <th>4</th>\n",
       "      <td>20210706</td>\n",
       "      <td>0</td>\n",
       "      <td>114</td>\n",
       "      <td>False</td>\n",
       "      <td>69958</td>\n",
       "      <td>449</td>\n",
       "      <td>509</td>\n",
       "      <td>4</td>\n",
       "      <td>43962</td>\n",
       "      <td>False</td>\n",
       "      <td>1.0</td>\n",
       "      <td>art 36 regolamento europeo scritto andare evit...</td>\n",
       "    </tr>\n",
       "    <tr>\n",
       "      <th>...</th>\n",
       "      <td>...</td>\n",
       "      <td>...</td>\n",
       "      <td>...</td>\n",
       "      <td>...</td>\n",
       "      <td>...</td>\n",
       "      <td>...</td>\n",
       "      <td>...</td>\n",
       "      <td>...</td>\n",
       "      <td>...</td>\n",
       "      <td>...</td>\n",
       "      <td>...</td>\n",
       "      <td>...</td>\n",
       "    </tr>\n",
       "    <tr>\n",
       "      <th>24995</th>\n",
       "      <td>20210831</td>\n",
       "      <td>14</td>\n",
       "      <td>0</td>\n",
       "      <td>False</td>\n",
       "      <td>16860</td>\n",
       "      <td>13730</td>\n",
       "      <td>2666</td>\n",
       "      <td>45</td>\n",
       "      <td>15164</td>\n",
       "      <td>False</td>\n",
       "      <td>0.0</td>\n",
       "      <td>dispiacere morte poliziotto taranto morire con...</td>\n",
       "    </tr>\n",
       "    <tr>\n",
       "      <th>24996</th>\n",
       "      <td>20210317</td>\n",
       "      <td>0</td>\n",
       "      <td>4</td>\n",
       "      <td>False</td>\n",
       "      <td>3767</td>\n",
       "      <td>471</td>\n",
       "      <td>1408</td>\n",
       "      <td>32</td>\n",
       "      <td>6925</td>\n",
       "      <td>False</td>\n",
       "      <td>0.0</td>\n",
       "      <td>sicilia sempre additare disorganizzazione appa...</td>\n",
       "    </tr>\n",
       "    <tr>\n",
       "      <th>24997</th>\n",
       "      <td>20210629</td>\n",
       "      <td>0</td>\n",
       "      <td>9</td>\n",
       "      <td>False</td>\n",
       "      <td>8883</td>\n",
       "      <td>1232</td>\n",
       "      <td>1117</td>\n",
       "      <td>1</td>\n",
       "      <td>16099</td>\n",
       "      <td>False</td>\n",
       "      <td>1.0</td>\n",
       "      <td>infatti capisco resistere fronte minaccia dipe...</td>\n",
       "    </tr>\n",
       "    <tr>\n",
       "      <th>24998</th>\n",
       "      <td>20211011</td>\n",
       "      <td>0</td>\n",
       "      <td>0</td>\n",
       "      <td>False</td>\n",
       "      <td>2</td>\n",
       "      <td>28</td>\n",
       "      <td>88</td>\n",
       "      <td>0</td>\n",
       "      <td>202</td>\n",
       "      <td>False</td>\n",
       "      <td>1.0</td>\n",
       "      <td>coloro vaccinare marionetta Stato perché secon...</td>\n",
       "    </tr>\n",
       "    <tr>\n",
       "      <th>24999</th>\n",
       "      <td>20201125</td>\n",
       "      <td>3</td>\n",
       "      <td>0</td>\n",
       "      <td>False</td>\n",
       "      <td>135044</td>\n",
       "      <td>4458</td>\n",
       "      <td>2640</td>\n",
       "      <td>67</td>\n",
       "      <td>184698</td>\n",
       "      <td>False</td>\n",
       "      <td>0.0</td>\n",
       "      <td>obbligatorietà vaccino sistema efficace servir...</td>\n",
       "    </tr>\n",
       "  </tbody>\n",
       "</table>\n",
       "<p>25000 rows × 12 columns</p>\n",
       "</div>"
      ],
      "text/plain": [
       "       created_at  favorite_count  retweet_count  user_default_profile_image  \\\n",
       "0        20210711               1              0                       False   \n",
       "1        20210311               0              5                       False   \n",
       "2        20210912               0              0                       False   \n",
       "3        20210921               0              0                       False   \n",
       "4        20210706               0            114                       False   \n",
       "...           ...             ...            ...                         ...   \n",
       "24995    20210831              14              0                       False   \n",
       "24996    20210317               0              4                       False   \n",
       "24997    20210629               0              9                       False   \n",
       "24998    20211011               0              0                       False   \n",
       "24999    20201125               3              0                       False   \n",
       "\n",
       "       user_favourites_count  user_followers_count  user_friends_count  \\\n",
       "0                       1061                    73                  83   \n",
       "1                      59010                  5094                1094   \n",
       "2                        462                    18                  57   \n",
       "3                       1765                    50                  79   \n",
       "4                      69958                   449                 509   \n",
       "...                      ...                   ...                 ...   \n",
       "24995                  16860                 13730                2666   \n",
       "24996                   3767                   471                1408   \n",
       "24997                   8883                  1232                1117   \n",
       "24998                      2                    28                  88   \n",
       "24999                 135044                  4458                2640   \n",
       "\n",
       "       user_listed_count  user_statuses_count  user_verified  sentiment  \\\n",
       "0                      0                 1402          False        0.0   \n",
       "1                    126               198424          False        0.0   \n",
       "2                      0                  195          False        0.0   \n",
       "3                      0                 2649          False        1.0   \n",
       "4                      4                43962          False        1.0   \n",
       "...                  ...                  ...            ...        ...   \n",
       "24995                 45                15164          False        0.0   \n",
       "24996                 32                 6925          False        0.0   \n",
       "24997                  1                16099          False        1.0   \n",
       "24998                  0                  202          False        1.0   \n",
       "24999                 67               184698          False        0.0   \n",
       "\n",
       "                                         lemmatized_text  \n",
       "0      ieri sabato 10 luglio 449 590 vaccinazione ecc...  \n",
       "1      propaganda fare vaccino vergognoso spiace part...  \n",
       "2      continuare parlare accorgere dato convergere v...  \n",
       "3                                               dissocio  \n",
       "4      art 36 regolamento europeo scritto andare evit...  \n",
       "...                                                  ...  \n",
       "24995  dispiacere morte poliziotto taranto morire con...  \n",
       "24996  sicilia sempre additare disorganizzazione appa...  \n",
       "24997  infatti capisco resistere fronte minaccia dipe...  \n",
       "24998  coloro vaccinare marionetta Stato perché secon...  \n",
       "24999  obbligatorietà vaccino sistema efficace servir...  \n",
       "\n",
       "[25000 rows x 12 columns]"
      ]
     },
     "execution_count": 18,
     "metadata": {},
     "output_type": "execute_result"
    }
   ],
   "source": [
    "df"
   ]
  },
  {
   "cell_type": "code",
   "execution_count": 19,
   "metadata": {
    "scrolled": true
   },
   "outputs": [
    {
     "name": "stdout",
     "output_type": "stream",
     "text": [
      "0.5154\n",
      "[[1207 1306]\n",
      " [1263 1224]]\n"
     ]
    }
   ],
   "source": [
    "# a baseline model evaluation\n",
    "X = df[(col for col in df if col != 'sentiment')]\n",
    "y = df['sentiment']\n",
    "\n",
    "X_train_dum, X_test_dum, y_train_dum, y_test_dum = train_test_split(X, y, test_size=0.20, random_state=seed)\n",
    "\n",
    "dummy_clf = DummyClassifier(strategy=\"stratified\").fit(X_train_dum, y_train_dum)\n",
    "y_pred_dum = dummy_clf.predict(X_test_dum)\n",
    "print(dummy_clf.score(X_test_dum, y_test_dum))\n",
    "print(confusion_matrix(y_pred_dum, y_test_dum))"
   ]
  },
  {
   "cell_type": "markdown",
   "metadata": {},
   "source": [
    "Data preprocessing"
   ]
  },
  {
   "cell_type": "code",
   "execution_count": 20,
   "metadata": {},
   "outputs": [],
   "source": [
    "dfbow = df.copy(deep=True)\n",
    "dftf = df.copy(deep=True)"
   ]
  },
  {
   "cell_type": "code",
   "execution_count": 21,
   "metadata": {},
   "outputs": [],
   "source": [
    "# count vectorizer - tfidf parameters + encoding + concatenation\n",
    "cvectorizer = CountVectorizer(max_features = 1000, binary = True) # counting words with binary condition\n",
    "tfvectorizer = TfidfVectorizer(max_features = 1000)\n",
    "\n",
    "textbow = cvectorizer.fit_transform(df['lemmatized_text']).todense() # step 1: encode variable + to dense\n",
    "textbow = pd.DataFrame(textbow, columns=cvectorizer.get_feature_names_out()) # step 2: matrix to dataframe w/ col names\n",
    "\n",
    "texttf = tfvectorizer.fit_transform(df['lemmatized_text']).todense() # step 1: encode variable + to dense\n",
    "texttf = pd.DataFrame(texttf, columns=tfvectorizer.get_feature_names_out()) # step 2: matrix to dataframe w/ col names\n",
    "\n",
    "dfbow = pd.concat([dfbow, textbow], axis=1)\n",
    "dfbow.drop(columns = ['lemmatized_text'], inplace = True)\n",
    "dftf = pd.concat([dftf, texttf], axis=1)\n",
    "dftf.drop(columns = ['lemmatized_text'], inplace = True)"
   ]
  },
  {
   "cell_type": "code",
   "execution_count": 22,
   "metadata": {},
   "outputs": [],
   "source": [
    "# df A\n",
    "X_bow = dfbow[(col for col in dfbow if col != 'sentiment')]\n",
    "y_bow = dfbow['sentiment']\n",
    "\n",
    "X_train_bow, X_test_bow, y_train_bow, y_test_bow = train_test_split(X_bow, y_bow, test_size=0.20, random_state=seed)\n",
    "\n",
    "# df B\n",
    "X_tf = dftf[(col for col in dftf if col != 'sentiment')]\n",
    "y_tf = dftf['sentiment']\n",
    "\n",
    "X_train_tf, X_test_tf, y_train_tf, y_test_tf = train_test_split(X_tf, y_tf, test_size=0.20, random_state=seed)"
   ]
  },
  {
   "cell_type": "code",
   "execution_count": 23,
   "metadata": {
    "scrolled": true
   },
   "outputs": [],
   "source": [
    "# model 1\n",
    "param_grid_nb = {'alpha': (1, 0.1, 0.01, 0.001, 0.0001, 1e-05)}\n",
    "\n",
    "grid_nb = GridSearchCV(estimator = MultinomialNB(),\n",
    "                       param_grid = param_grid_nb,\n",
    "                       scoring = 'accuracy',\n",
    "                       cv = 10,\n",
    "                       n_jobs = -1,\n",
    "                      )\n",
    "\n",
    "param_grid_rf = {'n_estimators': [10, 50, 100],\n",
    "                 'max_features': ['log2', 'sqrt'],\n",
    "                 'max_depth': [None, 10, 50],\n",
    "                 'bootstrap': [True, False]}\n",
    "\n",
    "# model 2\n",
    "grid_rf = GridSearchCV(estimator = RandomForestClassifier(),\n",
    "                       param_grid = param_grid_rf,\n",
    "                       scoring = 'accuracy',\n",
    "                       cv = 10,\n",
    "                       n_jobs = -1,\n",
    "                      )\n",
    "\n",
    "param_grid_etc = {'n_estimators': [10, 50, 100],\n",
    "                  'max_features': ['log2', 'sqrt'],\n",
    "                  'max_depth': [None, 10, 50],\n",
    "                  'bootstrap': [True, False]}\n",
    "\n",
    "# model 3\n",
    "grid_etc = GridSearchCV(estimator = ExtraTreesClassifier(),\n",
    "                        param_grid = param_grid_etc,\n",
    "                        scoring = 'accuracy',\n",
    "                        cv = 10,\n",
    "                        n_jobs = -1,\n",
    "                       )"
   ]
  },
  {
   "cell_type": "code",
   "execution_count": 24,
   "metadata": {},
   "outputs": [],
   "source": [
    "# roc curve for tpr = fpr \n",
    "random_probs = [0 for i in range(len(y_test_tf))]\n",
    "p_fpr, p_tpr, _ = roc_curve(y_test_bow, random_probs, pos_label=1)"
   ]
  },
  {
   "cell_type": "code",
   "execution_count": 25,
   "metadata": {},
   "outputs": [
    {
     "name": "stdout",
     "output_type": "stream",
     "text": [
      "Training execution time is:  0:00:19.925339\n",
      "Prediction execution time is:  0:00:00.282837\n",
      "{'alpha': 1}\n",
      "              precision    recall  f1-score   support\n",
      "\n",
      "    positive       0.56      0.33      0.41      2470\n",
      "    negative       0.53      0.75      0.62      2530\n",
      "\n",
      "    accuracy                           0.54      5000\n",
      "   macro avg       0.55      0.54      0.52      5000\n",
      "weighted avg       0.55      0.54      0.52      5000\n",
      "\n",
      "[[ 804 1666]\n",
      " [ 630 1900]]\n",
      "Training execution time is:  0:07:55.833654\n",
      "Prediction execution time is:  0:00:00.514463\n",
      "{'bootstrap': False, 'max_depth': None, 'max_features': 'sqrt', 'n_estimators': 100}\n",
      "              precision    recall  f1-score   support\n",
      "\n",
      "    positive       0.91      0.90      0.91      2470\n",
      "    negative       0.91      0.91      0.91      2530\n",
      "\n",
      "    accuracy                           0.91      5000\n",
      "   macro avg       0.91      0.91      0.91      5000\n",
      "weighted avg       0.91      0.91      0.91      5000\n",
      "\n",
      "[[2233  237]\n",
      " [ 221 2309]]\n",
      "Training execution time is:  0:08:53.265424\n",
      "Prediction execution time is:  0:00:00.589256\n",
      "{'bootstrap': True, 'max_depth': None, 'max_features': 'sqrt', 'n_estimators': 100}\n",
      "              precision    recall  f1-score   support\n",
      "\n",
      "    positive       0.84      0.86      0.85      2470\n",
      "    negative       0.86      0.84      0.85      2530\n",
      "\n",
      "    accuracy                           0.85      5000\n",
      "   macro avg       0.85      0.85      0.85      5000\n",
      "weighted avg       0.85      0.85      0.85      5000\n",
      "\n",
      "[[2126  344]\n",
      " [ 395 2135]]\n",
      "0.54 0.91 0.85\n"
     ]
    },
    {
     "data": {
      "image/png": "[encoded data removed]",
      "text/plain": [
       "<Figure size 576x396 with 1 Axes>"
      ]
     },
     "metadata": {},
     "output_type": "display_data"
    }
   ],
   "source": [
    "# bow model eval\n",
    "models = [('NB', grid_nb),\n",
    "          ('RF', grid_rf),\n",
    "          ('ETC', grid_etc)\n",
    "         ]\n",
    "y_pred_bow =  []\n",
    "pred_bow = []\n",
    "names = []\n",
    "target_names = ['positive', 'negative']\n",
    "\n",
    "for name, model in models:\n",
    "    start1 = datetime.now() \n",
    "    clf = model.fit(X_train_bow,y_train_bow)\n",
    "    stop1 = datetime.now()\n",
    "    fit_execution_time = stop1-start1\n",
    "    print(\"Training execution time is: \", fit_execution_time)\n",
    "    start2 = datetime.now() \n",
    "    y_pred_bow = clf.predict(X_test_bow)\n",
    "    stop2 = datetime.now()\n",
    "    pred_execution_time = stop2-start2\n",
    "    print(\"Prediction execution time is: \", pred_execution_time)\n",
    "    pred_bow.append(y_pred_bow)\n",
    "    print(model.best_params_)\n",
    "    print(classification_report(y_test_bow, y_pred_bow, target_names=target_names))\n",
    "    print(confusion_matrix(y_test_bow, y_pred_bow))\n",
    "    names.append(name)    \n",
    "    \n",
    "# roc curve for models\n",
    "fpr1_bow, tpr1_bow, thresh1_bow = roc_curve(y_test_bow, pred_bow[0], pos_label=1)\n",
    "fpr2_bow, tpr2_bow, thresh2_bow= roc_curve(y_test_bow, pred_bow[1], pos_label=1)\n",
    "fpr3_bow, tpr3_bow, thresh3_bow = roc_curve(y_test_bow, pred_bow[2], pos_label=1)\n",
    "\n",
    "# auc scores\n",
    "auc_score1_bow = roc_auc_score(y_test_bow, pred_bow[0]).round(2)\n",
    "auc_score2_bow = roc_auc_score(y_test_bow, pred_bow[1]).round(2)\n",
    "auc_score3_bow = roc_auc_score(y_test_bow, pred_bow[2]).round(2)\n",
    "\n",
    "print(auc_score1_bow, auc_score2_bow, auc_score3_bow)\n",
    "\n",
    "plt.style.use('seaborn')\n",
    "\n",
    "# plot roc curves\n",
    "plt.plot(fpr1_bow, tpr1_bow, linestyle='--',color='orange', label=names[0])\n",
    "plt.plot(fpr2_bow, tpr2_bow, linestyle='--',color='green', label=names[1])\n",
    "plt.plot(fpr3_bow, tpr3_bow, linestyle='--',color='red', label=names[2])\n",
    "\n",
    "plt.plot(p_fpr, p_tpr, linestyle='--', color='blue')\n",
    "\n",
    "# plt.title('BoW ROC curve') # title\n",
    "plt.xlabel('False Positive Rate') # x label\n",
    "plt.ylabel('True Positive rate') # y label\n",
    "plt.legend(loc='best')\n",
    "plt.savefig('ROCA',dpi=300)\n",
    "plt.show();"
   ]
  },
  {
   "cell_type": "code",
   "execution_count": 26,
   "metadata": {
    "scrolled": false
   },
   "outputs": [
    {
     "name": "stdout",
     "output_type": "stream",
     "text": [
      "Training execution time is:  0:00:36.631038\n",
      "Prediction execution time is:  0:00:00.306026\n",
      "{'alpha': 1}\n",
      "              precision    recall  f1-score   support\n",
      "\n",
      "    positive       0.56      0.33      0.41      2470\n",
      "    negative       0.53      0.75      0.62      2530\n",
      "\n",
      "    accuracy                           0.54      5000\n",
      "   macro avg       0.55      0.54      0.52      5000\n",
      "weighted avg       0.55      0.54      0.52      5000\n",
      "\n",
      "[[ 804 1666]\n",
      " [ 630 1900]]\n",
      "Training execution time is:  0:10:09.370974\n",
      "Prediction execution time is:  0:00:01.236199\n",
      "{'bootstrap': False, 'max_depth': None, 'max_features': 'sqrt', 'n_estimators': 100}\n",
      "              precision    recall  f1-score   support\n",
      "\n",
      "    positive       0.91      0.91      0.91      2470\n",
      "    negative       0.91      0.91      0.91      2530\n",
      "\n",
      "    accuracy                           0.91      5000\n",
      "   macro avg       0.91      0.91      0.91      5000\n",
      "weighted avg       0.91      0.91      0.91      5000\n",
      "\n",
      "[[2237  233]\n",
      " [ 223 2307]]\n",
      "Training execution time is:  0:15:16.561187\n",
      "Prediction execution time is:  0:00:01.505694\n",
      "{'bootstrap': False, 'max_depth': None, 'max_features': 'sqrt', 'n_estimators': 100}\n",
      "              precision    recall  f1-score   support\n",
      "\n",
      "    positive       0.89      0.86      0.88      2470\n",
      "    negative       0.87      0.89      0.88      2530\n",
      "\n",
      "    accuracy                           0.88      5000\n",
      "   macro avg       0.88      0.88      0.88      5000\n",
      "weighted avg       0.88      0.88      0.88      5000\n",
      "\n",
      "[[2136  334]\n",
      " [ 274 2256]]\n",
      "0.54 0.91 0.88\n"
     ]
    },
    {
     "data": {
      "image/png": "[encoded data removed]",
      "text/plain": [
       "<Figure size 576x396 with 1 Axes>"
      ]
     },
     "metadata": {},
     "output_type": "display_data"
    }
   ],
   "source": [
    "# tf model eval\n",
    "models = [('NB', grid_nb),\n",
    "          ('RF', grid_rf),\n",
    "          ('ETC', grid_etc)\n",
    "         ]\n",
    "y_pred_tf =  []\n",
    "pred_tf = []\n",
    "names = []\n",
    "target_names = ['positive', 'negative']\n",
    "\n",
    "for name, model in models:\n",
    "    start1 = datetime.now() \n",
    "    clf = model.fit(X_train_tf,y_train_tf)\n",
    "    stop1 = datetime.now()\n",
    "    fit_execution_time_tf = stop1-start1\n",
    "    print(\"Training execution time is: \", fit_execution_time_tf)\n",
    "    start2 = datetime.now()     \n",
    "    y_pred_tf = clf.predict(X_test_tf)\n",
    "    stop2 = datetime.now()\n",
    "    pred_execution_time_tf = stop2-start2\n",
    "    print(\"Prediction execution time is: \", pred_execution_time_tf)\n",
    "    pred_tf.append(y_pred_tf)\n",
    "    print(model.best_params_)\n",
    "    print(classification_report(y_test_tf, y_pred_tf, target_names=target_names))\n",
    "    print(confusion_matrix(y_test_tf, y_pred_tf))\n",
    "    names.append(name)    \n",
    "    \n",
    "# roc curve for models\n",
    "fpr1_tf, tpr1_tf, thresh1_tf = roc_curve(y_test_tf, pred_tf[0], pos_label=1)\n",
    "fpr2_tf, tpr2_tf, thresh2_tf = roc_curve(y_test_tf, pred_tf[1], pos_label=1)\n",
    "fpr3_tf, tpr3_tf, thresh3_tf = roc_curve(y_test_tf, pred_tf[2], pos_label=1)\n",
    "\n",
    "# auc scores\n",
    "auc_score1_tf = roc_auc_score(y_test_tf, pred_tf[0]).round(2)\n",
    "auc_score2_tf = roc_auc_score(y_test_tf, pred_tf[1]).round(2)\n",
    "auc_score3_tf = roc_auc_score(y_test_tf, pred_tf[2]).round(2)\n",
    "\n",
    "print(auc_score1_tf, auc_score2_tf, auc_score3_tf)\n",
    "\n",
    "plt.style.use('seaborn')\n",
    "\n",
    "# plot roc curves\n",
    "plt.plot(fpr1_tf, tpr1_tf, linestyle='--',color='orange', label=names[0])\n",
    "plt.plot(fpr2_tf, tpr2_tf, linestyle='--',color='green', label=names[1])\n",
    "plt.plot(fpr3_tf, tpr3_tf, linestyle='--',color='red', label=names[2])\n",
    "\n",
    "plt.plot(p_fpr, p_tpr, linestyle='--', color='blue')\n",
    "\n",
    "# plt.title('Tf-idf ROC curve') # title\n",
    "plt.xlabel('False Positive Rate') # x label\n",
    "plt.ylabel('True Positive rate') # y label\n",
    "plt.legend(loc='best')\n",
    "plt.savefig('ROCB',dpi=300)\n",
    "plt.show();"
   ]
  },
  {
   "cell_type": "code",
   "execution_count": 2,
   "metadata": {},
   "outputs": [
    {
     "data": {
      "image/png": "[encoded data removed]",
      "text/plain": [
       "<Figure size 648x432 with 2 Axes>"
      ]
     },
     "metadata": {
      "needs_background": "light"
     },
     "output_type": "display_data"
    }
   ],
   "source": [
    "import matplotlib.dates as mdates\n",
    "\n",
    "fig , ax = plt.subplots(1,2, sharex='col', sharey='row', figsize=(9, 6))\n",
    "plt.style.use('seaborn')\n",
    "\n",
    "X = ['NB','RF','ETC']\n",
    "trainbowtime = mdates.datestr2num([\"0:00:19\",\"00:07:55\", \"0:08:53\"])\n",
    "fitbowtime = mdates.datestr2num([\"00:00:00\",\"00:00:00\",\"00:00:00\"])\n",
    "traintftime = mdates.datestr2num([\"0:00:36\", \"0:10:09\", \"0:15:16\"])\n",
    "fittftime = mdates.datestr2num([\"00:00:00\", \"00:00:01\", \"00:00:01\"])\n",
    "\n",
    "ax[0].plot(X, trainbowtime , label = 'BoW')\n",
    "ax[0].plot(X, traintftime , label = 'Tf-idf')\n",
    "ax[0].set_title('Fit time')\n",
    "ax[0].legend()\n",
    "ax[0].set_xlabel(\"Model\")\n",
    "ax[0].set_ylabel(\"Time\")\n",
    "\n",
    "ax[1].plot(X, fitbowtime, label = 'BoW')\n",
    "ax[1].plot(X, fittftime, label = 'Tf-idf')\n",
    "ax[1].set_title('Predict time')\n",
    "ax[1].legend()\n",
    "ax[1].set_xlabel(\"Model\")\n",
    "ax[1].set_ylabel(\"Time\")\n",
    "\n",
    "plt.show()\n",
    "fig.savefig('timecomp', dpi = 300)"
   ]
  },
  {
   "cell_type": "code",
   "execution_count": 28,
   "metadata": {},
   "outputs": [],
   "source": [
    "dfuser = df[['user_default_profile_image',\n",
    "             'user_favourites_count',\n",
    "             'user_followers_count',\n",
    "             'user_friends_count',\n",
    "             'user_listed_count',\n",
    "             'user_statuses_count',\n",
    "             'user_verified',\n",
    "             'sentiment']]\n",
    "\n",
    "dftweet = dfbow.copy(deep=True)\n",
    "dftweet = dftweet.drop(columns =['user_default_profile_image',\n",
    "                                 'user_favourites_count',\n",
    "                                 'user_followers_count',\n",
    "                                 'user_friends_count',\n",
    "                                 'user_listed_count',\n",
    "                                 'user_statuses_count',\n",
    "                                 'user_verified'])"
   ]
  },
  {
   "cell_type": "code",
   "execution_count": 29,
   "metadata": {},
   "outputs": [],
   "source": [
    "dftweetcorr = dftweet.corr()[['sentiment']].sort_values(by='sentiment', ascending=False)\n",
    "dfusercorr = dfuser.corr()[['sentiment']].sort_values(by='sentiment', ascending=False)"
   ]
  },
  {
   "cell_type": "code",
   "execution_count": 30,
   "metadata": {},
   "outputs": [
    {
     "data": {
      "image/png": "[encoded data removed]",
      "text/plain": [
       "<Figure size 576x432 with 2 Axes>"
      ]
     },
     "metadata": {},
     "output_type": "display_data"
    }
   ],
   "source": [
    "plt.figure(figsize=(8, 6))\n",
    "plt.style.use('seaborn')\n",
    "\n",
    "heatmap = sns.heatmap(dftweetcorr[1:7], vmin=-1, vmax=1, annot=True)\n",
    "# heatmap.set_title('Bow features Correlating with Sentiment', fontdict={'fontsize':11}, pad=16)\n",
    "plt.yticks(rotation = 360)\n",
    "plt.savefig('tweet_corr', bbox_inches = 'tight', dpi = 300)"
   ]
  },
  {
   "cell_type": "code",
   "execution_count": 31,
   "metadata": {},
   "outputs": [
    {
     "data": {
      "image/png": "[encoded data removed]",
      "text/plain": [
       "<Figure size 576x432 with 2 Axes>"
      ]
     },
     "metadata": {},
     "output_type": "display_data"
    }
   ],
   "source": [
    "plt.figure(figsize=(8, 6))\n",
    "plt.style.use('seaborn')\n",
    "\n",
    "heatmap = sns.heatmap(dfusercorr[1:7], vmin=-1, vmax=1, annot=True)\n",
    "# heatmap.set_title('Tf-idf features Correlating with Sentiment', fontdict={'fontsize':11}, pad=16)\n",
    "plt.yticks(rotation = 360)\n",
    "plt.savefig('user_corr', bbox_inches = 'tight', dpi = 300)"
   ]
  },
  {
   "cell_type": "code",
   "execution_count": 32,
   "metadata": {},
   "outputs": [],
   "source": [
    "# df tweet\n",
    "X_tweet = dftweet[(col for col in dftweet if col != 'sentiment')]\n",
    "y_tweet = dftweet['sentiment']\n",
    "\n",
    "X_train_tweet, X_test_tweet, y_train_tweet, y_test_tweet = train_test_split(X_tweet, y_tweet, test_size=0.20, random_state=seed)\n",
    "\n",
    "# df user\n",
    "X_user = dfuser[(col for col in dfuser if col != 'sentiment')]\n",
    "y_user = dfuser['sentiment']\n",
    "\n",
    "X_train_user, X_test_user, y_train_user, y_test_user = train_test_split(X_user, y_user, test_size=0.20, random_state=seed)"
   ]
  },
  {
   "cell_type": "code",
   "execution_count": 33,
   "metadata": {},
   "outputs": [
    {
     "name": "stdout",
     "output_type": "stream",
     "text": [
      "Training execution time is:  0:09:01.296001\n",
      "{'bootstrap': False, 'max_depth': 50, 'max_features': 'sqrt', 'n_estimators': 100}\n",
      "Prediction execution time is:  0:00:00.203871\n",
      "              precision    recall  f1-score   support\n",
      "\n",
      "    positive       0.87      0.85      0.86      2470\n",
      "    negative       0.86      0.87      0.87      2530\n",
      "\n",
      "    accuracy                           0.86      5000\n",
      "   macro avg       0.86      0.86      0.86      5000\n",
      "weighted avg       0.86      0.86      0.86      5000\n",
      "\n",
      "[[2110  360]\n",
      " [ 325 2205]]\n",
      "Training execution time is:  0:01:07.524936\n",
      "{'bootstrap': True, 'max_depth': None, 'max_features': 'sqrt', 'n_estimators': 50}\n",
      "Prediction execution time is:  0:00:00.062944\n",
      "              precision    recall  f1-score   support\n",
      "\n",
      "    positive       0.85      0.88      0.87      2470\n",
      "    negative       0.88      0.85      0.86      2530\n",
      "\n",
      "    accuracy                           0.86      5000\n",
      "   macro avg       0.86      0.86      0.86      5000\n",
      "weighted avg       0.86      0.86      0.86      5000\n",
      "\n",
      "[[2179  291]\n",
      " [ 389 2141]]\n",
      "0.86 0.86\n"
     ]
    },
    {
     "data": {
      "image/png": "[encoded data removed]",
      "text/plain": [
       "<Figure size 576x396 with 1 Axes>"
      ]
     },
     "metadata": {},
     "output_type": "display_data"
    }
   ],
   "source": [
    "target_names = ['positive', 'negative']\n",
    "\n",
    "start1 = datetime.now() \n",
    "rftweet = grid_rf.fit(X_train_tweet, y_train_tweet)\n",
    "stop1 = datetime.now()\n",
    "fit_execution_time_tweet = stop1-start1\n",
    "print(\"Training execution time is: \", fit_execution_time_tweet)\n",
    "print(rftweet.best_params_)\n",
    "start2 = datetime.now() \n",
    "y_pred_tweet = rftweet.predict(X_test_tweet)\n",
    "stop2 = datetime.now()\n",
    "pred_execution_time_tweet = stop2-start2\n",
    "print(\"Prediction execution time is: \", pred_execution_time_tweet)\n",
    "print(classification_report(y_test_tweet, y_pred_tweet, target_names=target_names))\n",
    "print(confusion_matrix(y_test_tweet, y_pred_tweet))\n",
    "\n",
    "fpr1, tpr1, thresh1 = roc_curve(y_test_tweet, y_pred_tweet, pos_label=1)\n",
    "auc_score1 = roc_auc_score(y_test_tweet, y_pred_tweet).round(2)\n",
    "\n",
    "start1 = datetime.now() \n",
    "rfuser = grid_rf.fit(X_train_user, y_train_user)\n",
    "stop1 = datetime.now()\n",
    "fit_execution_time_user = stop1-start1\n",
    "print(\"Training execution time is: \", fit_execution_time_user)\n",
    "print(rfuser.best_params_)\n",
    "start2 = datetime.now() \n",
    "y_pred_user = rfuser.predict(X_test_user)\n",
    "stop2 = datetime.now()\n",
    "pred_execution_time_user = stop2-start2\n",
    "print(\"Prediction execution time is: \", pred_execution_time_user)\n",
    "print(classification_report(y_test_user, y_pred_user, target_names=target_names))\n",
    "print(confusion_matrix(y_test_user, y_pred_user))\n",
    "\n",
    "fpr2, tpr2, thresh2 = roc_curve(y_test_user, y_pred_user, pos_label=1)\n",
    "auc_score2 = roc_auc_score(y_test_user, y_pred_user).round(2)\n",
    "\n",
    "print(auc_score1, auc_score2)\n",
    "\n",
    "plt.style.use('seaborn')\n",
    "\n",
    "plt.plot(fpr1, tpr1, linestyle='--',color='orange', label='Tweet subset')\n",
    "plt.plot(fpr2, tpr2, linestyle='--',color='red', label='User subset')\n",
    "plt.plot(p_fpr, p_tpr, linestyle='--', color='blue')\n",
    "\n",
    "# plt.title('Tweet vs. User ROC curve') # title\n",
    "plt.xlabel('False Positive Rate') # x label\n",
    "plt.ylabel('True Positive rate') # y label\n",
    "plt.legend(loc='lower right')\n",
    "plt.savefig('ROCsub',dpi=300)\n",
    "plt.show();"
   ]
  },
  {
   "cell_type": "code",
   "execution_count": 34,
   "metadata": {
    "scrolled": false
   },
   "outputs": [
    {
     "name": "stdout",
     "output_type": "stream",
     "text": [
      "Prediction execution time is:  0:00:00.062944\n",
      "{'alpha': 0.001}\n",
      "Prediction execution time is:  0:00:00.015622\n",
      "              precision    recall  f1-score   support\n",
      "\n",
      "    positive       0.72      0.66      0.69      2470\n",
      "    negative       0.69      0.75      0.72      2530\n",
      "\n",
      "    accuracy                           0.70      5000\n",
      "   macro avg       0.71      0.70      0.70      5000\n",
      "weighted avg       0.71      0.70      0.70      5000\n",
      "\n",
      "[[1629  841]\n",
      " [ 634 1896]]\n",
      "Prediction execution time is:  0:00:00.015622\n",
      "{'alpha': 1}\n",
      "Prediction execution time is:  0:00:00.007509\n",
      "              precision    recall  f1-score   support\n",
      "\n",
      "    positive       0.57      0.56      0.57      2470\n",
      "    negative       0.58      0.58      0.58      2530\n",
      "\n",
      "    accuracy                           0.57      5000\n",
      "   macro avg       0.57      0.57      0.57      5000\n",
      "weighted avg       0.57      0.57      0.57      5000\n",
      "\n",
      "[[1390 1080]\n",
      " [1058 1472]]\n",
      "0.7 0.57\n"
     ]
    },
    {
     "data": {
      "image/png": "[encoded data removed]",
      "text/plain": [
       "<Figure size 576x396 with 1 Axes>"
      ]
     },
     "metadata": {},
     "output_type": "display_data"
    }
   ],
   "source": [
    "target_names = ['positive', 'negative']\n",
    "\n",
    "start1 = datetime.now()\n",
    "nbtweet = grid_nb.fit(X_train_tweet, y_train_tweet)\n",
    "stop1 = datetime.now()\n",
    "fit_execution_time_tweet_nb = stop2-start2\n",
    "print(\"Prediction execution time is: \", fit_execution_time_tweet_nb)\n",
    "print(nbtweet.best_params_)\n",
    "start2 = datetime.now()\n",
    "y_pred_tweet_nb = nbtweet.predict(X_test_tweet)\n",
    "stop2 = datetime.now()\n",
    "pred_execution_time_tweet_nb = stop2-start2\n",
    "print(\"Prediction execution time is: \", pred_execution_time_tweet_nb)\n",
    "print(classification_report(y_test_tweet, y_pred_tweet_nb, target_names=target_names))\n",
    "print(confusion_matrix(y_test_tweet, y_pred_tweet_nb))\n",
    "\n",
    "fpr3, tpr3, thresh3 = roc_curve(y_test_tweet, y_pred_tweet_nb, pos_label=1)\n",
    "auc_score3 = roc_auc_score(y_test_tweet, y_pred_tweet_nb).round(2)\n",
    "\n",
    "start1 = datetime.now()\n",
    "nbuser = grid_nb.fit(X_train_user, y_train_user)\n",
    "stop1 = datetime.now()\n",
    "fit_execution_time_user_nb = stop2-start2\n",
    "print(\"Prediction execution time is: \", fit_execution_time_user_nb)\n",
    "print(nbuser.best_params_)\n",
    "start2 = datetime.now()\n",
    "y_pred_user_nb = nbuser.predict(X_test_user)\n",
    "stop2 = datetime.now()\n",
    "pred_execution_time_user_nb = stop2-start2\n",
    "print(\"Prediction execution time is: \", pred_execution_time_user_nb)\n",
    "print(classification_report(y_test_user, y_pred_user_nb, target_names=target_names))\n",
    "print(confusion_matrix(y_test_user, y_pred_user_nb))\n",
    "\n",
    "fpr4, tpr4, thresh4 = roc_curve(y_test_user, y_pred_user_nb, pos_label=1)\n",
    "auc_score4= roc_auc_score(y_test_user, y_pred_user_nb).round(2)\n",
    "\n",
    "print(auc_score3, auc_score4)\n",
    "\n",
    "plt.style.use('seaborn')\n",
    "\n",
    "plt.plot(fpr3, tpr3, linestyle='--',color='orange', label='Tweet subset')\n",
    "plt.plot(fpr4, tpr4, linestyle='--',color='red', label='User subset')\n",
    "plt.plot(p_fpr, p_tpr, linestyle='--', color='blue')\n",
    "\n",
    "# plt.title('Tweet vs. User ROC curve') # title\n",
    "plt.xlabel('False Positive Rate') # x label\n",
    "plt.ylabel('True Positive rate') # y label\n",
    "plt.legend(loc='lower right')\n",
    "plt.savefig('ROCsc',dpi=300)\n",
    "plt.show();"
   ]
  },
  {
   "cell_type": "code",
   "execution_count": null,
   "metadata": {},
   "outputs": [],
   "source": []
  },
  {
   "cell_type": "code",
   "execution_count": null,
   "metadata": {},
   "outputs": [],
   "source": []
  }
 ],
 "metadata": {
  "colab": {
   "name": "EDA_code.ipynb",
   "provenance": [],
   "toc_visible": true
  },
  "kernelspec": {
   "display_name": "Python 3 (ipykernel)",
   "language": "python",
   "name": "python3"
  },
  "language_info": {
   "codemirror_mode": {
    "name": "ipython",
    "version": 3
   },
   "file_extension": ".py",
   "mimetype": "text/x-python",
   "name": "python",
   "nbconvert_exporter": "python",
   "pygments_lexer": "ipython3",
   "version": "3.9.12"
  }
 },
 "nbformat": 4,
 "nbformat_minor": 1
}
