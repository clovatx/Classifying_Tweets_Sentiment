{
 "cells": [
  {
   "cell_type": "markdown",
   "metadata": {
    "id": "pFi5aSkPqrVP"
   },
   "source": [
    "DSS THESIS"
   ]
  },
  {
   "cell_type": "markdown",
   "metadata": {
    "id": "PbmfDlW1zW5l"
   },
   "source": [
    "*Packages and preparation*"
   ]
  },
  {
   "cell_type": "code",
   "execution_count": 1,
   "metadata": {
    "id": "XAA2qmrjQ2gr"
   },
   "outputs": [],
   "source": [
    "# importing packages\n",
    "from datetime import datetime\n",
    "from dateutil.parser import parse\n",
    "import matplotlib.pyplot as plt\n",
    "from nltk.corpus import stopwords\n",
    "import numpy as np # for mathematical operations\n",
    "import pandas as pd # for dataframe processing\n",
    "import re\n",
    "import seaborn as sns\n",
    "import sklearn\n",
    "from sklearn import metrics\n",
    "from sklearn import model_selection\n",
    "from sklearn.ensemble import ExtraTreesClassifier\n",
    "from sklearn.ensemble import RandomForestClassifier\n",
    "from sklearn.feature_extraction.text import CountVectorizer\n",
    "from sklearn.feature_extraction.text import TfidfTransformer\n",
    "from sklearn.feature_extraction.text import TfidfVectorizer\n",
    "from sklearn.model_selection import train_test_split\n",
    "from sklearn.naive_bayes import MultinomialNB\n",
    "import spacy\n",
    "import string\n",
    "from scipy.sparse import csr_matrix\n",
    "from mlxtend.preprocessing import DenseTransformer\n",
    "from sklearn.decomposition import TruncatedSVD\n",
    "\n",
    "pd.options.display.max_columns = None"
   ]
  },
  {
   "cell_type": "markdown",
   "metadata": {
    "id": "yz-Jm2nJqyod"
   },
   "source": [
    "*Dataframe initialization*"
   ]
  },
  {
   "cell_type": "code",
   "execution_count": 2,
   "metadata": {
    "id": "Asy6ASYJRhrB"
   },
   "outputs": [],
   "source": [
    "# loading dataframes /anti /pro\n",
    "\n",
    "prodf = pd.read_csv('pro.csv', sep = \";\", index_col = 0, low_memory = False)\n",
    "antidf = pd.read_csv('anti.csv', sep = \";\", index_col = 0, low_memory = False)"
   ]
  },
  {
   "cell_type": "code",
   "execution_count": 3,
   "metadata": {
    "id": "K0QqcO91RhtR"
   },
   "outputs": [],
   "source": [
    "# coding sentiment\n",
    "antidf['sentiment'] = np.ones(antidf.shape[0]) # coding 1 for negative sentiment\n",
    "prodf['sentiment'] = np.zeros(prodf.shape[0]) # coding 0 for positive sentiment\n",
    "\n",
    "# merging dataframes for main dataframe\n",
    "df = pd.concat([antidf, prodf])"
   ]
  },
  {
   "cell_type": "markdown",
   "metadata": {
    "id": "AF-wd6vUq20l"
   },
   "source": [
    "*Data cleaning*"
   ]
  },
  {
   "cell_type": "code",
   "execution_count": null,
   "metadata": {
    "id": "iHq2aFYJRhx7"
   },
   "outputs": [],
   "source": [
    "# removing columns with notna < 0.5\n",
    "df.dropna(axis = 'columns', thresh = (df.shape[0]*0.5), inplace = True)\n",
    "\n",
    "# dropping duplicates\n",
    "df.drop_duplicates(subset = ['id'], keep = False, inplace = True)\n",
    "df.drop_duplicates(subset = ['text'], keep = 'first', inplace = True)\n",
    "\n",
    "# removing uninsightful and noisy variables\n",
    "df.drop(columns = ['user_location', 'lang', 'retweet_id', 'retweet_screen_name', 'user_screen_name',\n",
    "                   'source', 'tweet_url', 'user_id', 'user_name'], inplace = True)\n",
    "\n",
    "# dropping nas in rows\n",
    "df = df[df['user_description'].notna()]\n",
    "df = df[df['hashtags'].notna()]"
   ]
  },
  {
   "cell_type": "code",
   "execution_count": null,
   "metadata": {
    "colab": {
     "base_uri": "https://localhost:8080/"
    },
    "id": "Zr2wQOpRwaN_",
    "outputId": "0a21f96d-f24d-446a-c3d7-0bf3075bb89c"
   },
   "outputs": [],
   "source": [
    "# defining get date function\n",
    "def getdate(x):\n",
    "    dt = parse(x)\n",
    "    return dt.date()\n",
    "\n",
    "# defining lemmatization function\n",
    "nlp = spacy.load('it_core_news_lg')\n",
    "\n",
    "def lemmatization(inp):\n",
    "    if type(inp) == None:\n",
    "        return \"\"\n",
    "    doc = nlp(inp)\n",
    "    return \" \".join(token.lemma_ for token in doc)\n",
    "\n",
    "# defining cleaning text function\n",
    "def clean_text(text):\n",
    "    if type(text) == np.float:\n",
    "        return \"\"\n",
    "    temp = text.lower() #to lowercase all text\n",
    "    temp = re.sub(\"'\", \" \", temp) # to avoid removing contractions\n",
    "    temp = re.sub(\"@[a-z0-9_]+\",\"\", temp) # to remove mentions\n",
    "    temp = re.sub(\"#[a-z0-9_]+\",\"\", temp) # to remove hashtags\n",
    "    temp = re.sub(r'http\\S+', '', temp) # to remove links\n",
    "    temp = re.sub(r\"www.\\S+\", \"\", temp) # to remove links\n",
    "    temp = re.sub('\\n', ' ', temp) # to remove enters\n",
    "    temp = re.sub('[^a-z0-9àèìòù]', ' ', temp) # to remove non-alphanumeric characters\n",
    "    temp = re.sub('[()!?]', ' ', temp) # to remove punctuation\n",
    "    temp = re.sub('\\[.*?\\]',' ', temp) # to remove punctuation\n",
    "    temp = temp.split() # tokenization\n",
    "    temp = [w for w in temp if not w in stopwords.words(\"italian\")] # to remove stopwords\n",
    "    temp = \" \".join(word for word in temp) # to rejoin tokens\n",
    "    return temp"
   ]
  },
  {
   "cell_type": "code",
   "execution_count": null,
   "metadata": {},
   "outputs": [],
   "source": [
    "# applying get date function\n",
    "df['created_at'] = df['created_at'].apply(lambda x: getdate(x))\n",
    "df['user_created_at'] = df['user_created_at'].apply(lambda x: getdate(x))\n",
    "\n",
    "# datetime to integer\n",
    "df['created_at'] = pd.to_datetime(df[\"created_at\"]).dt.strftime(\"%Y%m%d\").astype(int)\n",
    "df['user_created_at'] = pd.to_datetime(df[\"user_created_at\"]).dt.strftime(\"%Y%m%d\").astype(int)\n",
    "\n",
    "# applying cleaning text function to text and user description\n",
    "df['clean_text'] = df['text'].apply(lambda x:clean_text(x))\n",
    "df['clean_user_description'] = df['user_description'].apply(lambda x: clean_text(x))\n",
    "\n",
    "# applying lemmatization function to text and user description\n",
    "df['lemmatized_text'] = df['clean_text'].apply(lambda x: lemmatization(x))\n",
    "df['lemmatized_user_description'] = df['clean_user_description'].apply(lambda x: lemmatization(x)) \n",
    "\n",
    "# applying cleaning text and lemmatization function to hashtags\n",
    "df['clean_hashtags'] = df['hashtags'].apply(lambda x: clean_text(x))\n",
    "df['lemmatized_hashtags'] = df['clean_hashtags'].apply(lambda x: lemmatization(x))"
   ]
  },
  {
   "cell_type": "markdown",
   "metadata": {},
   "source": [
    "*Data preprocessing*"
   ]
  },
  {
   "cell_type": "code",
   "execution_count": null,
   "metadata": {},
   "outputs": [],
   "source": [
    "# dropping recoded variables\n",
    "\n",
    "df.drop(columns = ['text', 'clean_text', 'user_description', 'clean_user_description', 'hashtags', 'clean_hashtags'], inplace = True)"
   ]
  },
  {
   "cell_type": "code",
   "execution_count": null,
   "metadata": {},
   "outputs": [],
   "source": [
    "df = df.dropna(subset=['lemmatized_text'])\n",
    "df = df.dropna(subset=['lemmatized_user_description'])"
   ]
  },
  {
   "cell_type": "code",
   "execution_count": null,
   "metadata": {},
   "outputs": [],
   "source": [
    "# resampling clean df\n",
    "df = df.groupby('sentiment').sample(n = 10000, random_state = 42).reset_index(drop = True)"
   ]
  },
  {
   "cell_type": "code",
   "execution_count": null,
   "metadata": {},
   "outputs": [],
   "source": [
    "df.to_csv('dss_thesis_datavfin.csv')"
   ]
  },
  {
   "cell_type": "code",
   "execution_count": 2,
   "metadata": {
    "execution": {
     "iopub.execute_input": "2022-05-12T13:28:58.557418Z",
     "iopub.status.busy": "2022-05-12T13:28:58.556857Z",
     "iopub.status.idle": "2022-05-12T13:28:58.766399Z",
     "shell.execute_reply": "2022-05-12T13:28:58.765493Z",
     "shell.execute_reply.started": "2022-05-12T13:28:58.557380Z"
    }
   },
   "outputs": [],
   "source": [
    "df = pd.read_csv('dss_thesis_datavfin.csv', sep = \",\", index_col = 0, low_memory = False)\n",
    "df.drop(['id', 'user_created_at'], axis=1, inplace = True)\n",
    "df = df.sample(frac = 1, random_state = 42).reset_index(drop = True)"
   ]
  },
  {
   "cell_type": "code",
   "execution_count": 3,
   "metadata": {
    "execution": {
     "iopub.execute_input": "2022-05-12T13:29:18.105540Z",
     "iopub.status.busy": "2022-05-12T13:29:18.104829Z",
     "iopub.status.idle": "2022-05-12T13:29:18.114206Z",
     "shell.execute_reply": "2022-05-12T13:29:18.113109Z",
     "shell.execute_reply.started": "2022-05-12T13:29:18.105489Z"
    }
   },
   "outputs": [],
   "source": [
    "# prepare dataframes for text encoding\n",
    "dfbow = df.copy(deep = True)\n",
    "dftf = df.copy(deep = True)"
   ]
  },
  {
   "cell_type": "code",
   "execution_count": 4,
   "metadata": {
    "execution": {
     "iopub.execute_input": "2022-05-12T13:29:42.198429Z",
     "iopub.status.busy": "2022-05-12T13:29:42.198160Z",
     "iopub.status.idle": "2022-05-12T13:29:42.203015Z",
     "shell.execute_reply": "2022-05-12T13:29:42.202078Z",
     "shell.execute_reply.started": "2022-05-12T13:29:42.198400Z"
    }
   },
   "outputs": [],
   "source": [
    "# count vectorizer - tfidf parameters\n",
    "cvectorizer = CountVectorizer(max_features = 5000, binary = True)\n",
    "tfvectorizer = TfidfVectorizer(max_features = 5000)"
   ]
  },
  {
   "cell_type": "markdown",
   "metadata": {},
   "source": [
    "*FULL BAG OF WORDS DATASET*"
   ]
  },
  {
   "cell_type": "code",
   "execution_count": 5,
   "metadata": {},
   "outputs": [],
   "source": [
    "textbow = cvectorizer.fit_transform(dfbow['lemmatized_text']) # step 1: encode variable\n",
    "textbow = textbow.todense() # step 2: matrix to dense\n",
    "textbow = pd.DataFrame(textbow) # step 3: matrix to dataframe\n",
    "textbow.columns = cvectorizer.get_feature_names_out() # step 4: words to column names"
   ]
  },
  {
   "cell_type": "code",
   "execution_count": 6,
   "metadata": {},
   "outputs": [],
   "source": [
    "hashbow = cvectorizer.fit_transform(dfbow['lemmatized_hashtags']) # step 1: encode variable\n",
    "hashbow = hashbow.todense() # step 2: matrix to dense\n",
    "hashbow = pd.DataFrame(hashbow) # step 3: matrix to dataframe\n",
    "hashbow.columns = [ \"h_\" + i for i in cvectorizer.get_feature_names_out()] # step 4: words to column names"
   ]
  },
  {
   "cell_type": "code",
   "execution_count": 7,
   "metadata": {
    "scrolled": true
   },
   "outputs": [],
   "source": [
    "dfbow.drop(columns = ['lemmatized_text', 'lemmatized_user_description', 'lemmatized_hashtags'], inplace = True)"
   ]
  },
  {
   "cell_type": "code",
   "execution_count": 8,
   "metadata": {},
   "outputs": [],
   "source": [
    "dfbow = pd.concat([dfbow, textbow, hashbow], axis=1)"
   ]
  },
  {
   "cell_type": "markdown",
   "metadata": {},
   "source": [
    "*FULL TF-IDF DATASET*"
   ]
  },
  {
   "cell_type": "code",
   "execution_count": 10,
   "metadata": {},
   "outputs": [],
   "source": [
    "texttf = tfvectorizer.fit_transform(dftf['lemmatized_text']) # step 1: encode variable\n",
    "texttf = texttf.todense() # step 2: matrix to dense\n",
    "texttf = pd.DataFrame(texttf) # step 3: matrix to dataframe\n",
    "texttf.columns = tfvectorizer.get_feature_names_out() # step 4: words to column names"
   ]
  },
  {
   "cell_type": "code",
   "execution_count": 11,
   "metadata": {},
   "outputs": [],
   "source": [
    "hashtf = tfvectorizer.fit_transform(dftf['lemmatized_hashtags']) # step 1: encode variable\n",
    "hashtf = hashtf.todense() # step 2: matrix to dense\n",
    "hashtf = pd.DataFrame(hashtf) # step 3: matrix to dataframe\n",
    "hashtf.columns = [ \"h_\" + i for i in tfvectorizer.get_feature_names_out()] # step 4: words to column names"
   ]
  },
  {
   "cell_type": "code",
   "execution_count": 12,
   "metadata": {
    "scrolled": true
   },
   "outputs": [],
   "source": [
    "dftf.drop(columns = ['lemmatized_text', 'lemmatized_user_description', 'lemmatized_hashtags'], inplace = True)"
   ]
  },
  {
   "cell_type": "code",
   "execution_count": 13,
   "metadata": {},
   "outputs": [],
   "source": [
    "dftf = pd.concat([dftf, texttf, hashtf], axis=1)"
   ]
  },
  {
   "cell_type": "markdown",
   "metadata": {},
   "source": [
    "*Model training and evaluation*"
   ]
  },
  {
   "cell_type": "code",
   "execution_count": 17,
   "metadata": {},
   "outputs": [],
   "source": [
    "# prepare configuration for cross validation test harness\n",
    "seed = 42\n",
    "\n",
    "# prepare models\n",
    "models = []\n",
    "models.append(('NB', MultinomialNB()))\n",
    "models.append(('RF', RandomForestClassifier()))\n",
    "models.append(('ETC', ExtraTreesClassifier()))"
   ]
  },
  {
   "cell_type": "markdown",
   "metadata": {
    "id": "OdVd65qWwOlG"
   },
   "source": [
    "*DATAFRAME SUBSETS*"
   ]
  },
  {
   "cell_type": "code",
   "execution_count": 42,
   "metadata": {
    "id": "mc-ZKSmvrFrb"
   },
   "outputs": [],
   "source": [
    "# subsetting the dataframe\n",
    "# tweet\n",
    "df_tweet = df[['created_at',\n",
    "              'favorite_count',\n",
    "              'retweet_count']]\n",
    "\n",
    "df_tweet_bow = pd.concat([df_tweet, textbow], axis=1)\n",
    "df_tweet_tf = pd.concat([df_tweet, texttf], axis=1)\n",
    "\n",
    "# user\n",
    "df_user = df[['user_default_profile_image',\n",
    "              'user_favourites_count',\n",
    "              'user_followers_count',\n",
    "              'user_friends_count',\n",
    "              'user_listed_count',\n",
    "              'user_statuses_count',\n",
    "              'user_verified']]\n",
    "\n",
    "# entity\n",
    "df_entity_bow = hashbow\n",
    "df_entity_tf = hashtf"
   ]
  },
  {
   "cell_type": "code",
   "execution_count": 43,
   "metadata": {},
   "outputs": [],
   "source": [
    "# tweet data split\n",
    "x_bow_tweet = df_tweet_bow\n",
    "y_bow_tweet = df['sentiment']\n",
    "\n",
    "x_tf_tweet = df_tweet_tf\n",
    "y_tf_tweet = df['sentiment']\n",
    "\n",
    "# user data split\n",
    "x_user = df_user\n",
    "y_user = df['sentiment']\n",
    "\n",
    "# entity data split\n",
    "x_bow_ent = df_entity_bow\n",
    "y_bow_ent = df['sentiment']\n",
    "\n",
    "x_tf_ent = df_entity_tf\n",
    "y_tf_ent = df['sentiment']"
   ]
  },
  {
   "cell_type": "code",
   "execution_count": 44,
   "metadata": {},
   "outputs": [
    {
     "name": "stdout",
     "output_type": "stream",
     "text": [
      "NB: 0.738550 (0.012527)\n",
      "RF: 0.864500 (0.006384)\n",
      "ETC: 0.828150 (0.010062)\n"
     ]
    }
   ],
   "source": [
    "# evaluate each model in turn for tweet bow dataframe\n",
    "t1_results = []\n",
    "names = []\n",
    "scoring = 'accuracy'\n",
    "for name, model in models:\n",
    "    kfold = model_selection.KFold(n_splits=10, random_state=seed, shuffle=True)\n",
    "    t1_cv_results = model_selection.cross_val_score(model, x_bow_tweet, y_bow_tweet, cv=kfold, scoring=scoring)\n",
    "    t1_results.append(t1_cv_results)\n",
    "    names.append(name)\n",
    "    msg = \"%s: %f (%f)\" % (name, t1_cv_results.mean(), t1_cv_results.std())\n",
    "    print(msg)"
   ]
  },
  {
   "cell_type": "code",
   "execution_count": 56,
   "metadata": {},
   "outputs": [
    {
     "data": {
      "image/png": "[encoded data removed]",
      "text/plain": [
       "<Figure size 432x288 with 1 Axes>"
      ]
     },
     "metadata": {
      "needs_background": "light"
     },
     "output_type": "display_data"
    }
   ],
   "source": [
    "# boxplot algorithm comparison with tweet bow dataframe\n",
    "fig = plt.figure()\n",
    "ax = fig.add_subplot(111)\n",
    "plt.boxplot(t1_results)\n",
    "plt.ylim(0.65, 1)\n",
    "ax.set_xticklabels(names)\n",
    "plt.show()"
   ]
  },
  {
   "cell_type": "code",
   "execution_count": 45,
   "metadata": {},
   "outputs": [
    {
     "name": "stdout",
     "output_type": "stream",
     "text": [
      "NB: 0.706150 (0.011651)\n",
      "RF: 0.863300 (0.006867)\n",
      "ETC: 0.856250 (0.008238)\n"
     ]
    }
   ],
   "source": [
    "# evaluate each model in turn for tweet tf dataframe\n",
    "t2_results = []\n",
    "names = []\n",
    "scoring = 'accuracy'\n",
    "for name, model in models:\n",
    "    kfold = model_selection.KFold(n_splits=10, random_state=seed, shuffle=True)\n",
    "    t2_cv_results = model_selection.cross_val_score(model, x_tf_tweet, y_tf_tweet, cv=kfold, scoring=scoring)\n",
    "    t2_results.append(t2_cv_results)\n",
    "    names.append(name)\n",
    "    msg = \"%s: %f (%f)\" % (name, t2_cv_results.mean(), t2_cv_results.std())\n",
    "    print(msg)"
   ]
  },
  {
   "cell_type": "code",
   "execution_count": 55,
   "metadata": {},
   "outputs": [
    {
     "data": {
      "image/png": "[encoded data removed]",
      "text/plain": [
       "<Figure size 432x288 with 1 Axes>"
      ]
     },
     "metadata": {
      "needs_background": "light"
     },
     "output_type": "display_data"
    }
   ],
   "source": [
    "# boxplot algorithm comparison with tweet tf dataframe\n",
    "fig = plt.figure()\n",
    "ax = fig.add_subplot(111)\n",
    "plt.boxplot(t2_results)\n",
    "plt.ylim(0.65, 1)\n",
    "ax.set_xticklabels(names)\n",
    "plt.show()"
   ]
  },
  {
   "cell_type": "code",
   "execution_count": 46,
   "metadata": {},
   "outputs": [
    {
     "name": "stdout",
     "output_type": "stream",
     "text": [
      "NB: 0.534300 (0.013589)\n",
      "RF: 0.864250 (0.005483)\n",
      "ETC: 0.863600 (0.006107)\n"
     ]
    }
   ],
   "source": [
    "# evaluate each model in turn for user dataframe\n",
    "u1_results = []\n",
    "names = []\n",
    "scoring = 'accuracy'\n",
    "for name, model in models:\n",
    "    kfold = model_selection.KFold(n_splits=10, random_state=seed, shuffle=True)\n",
    "    u1_cv_results = model_selection.cross_val_score(model, x_user, y_user, cv=kfold, scoring=scoring)\n",
    "    u1_results.append(u1_cv_results)\n",
    "    names.append(name)\n",
    "    msg = \"%s: %f (%f)\" % (name, u1_cv_results.mean(), u1_cv_results.std())\n",
    "    print(msg)"
   ]
  },
  {
   "cell_type": "code",
   "execution_count": 59,
   "metadata": {},
   "outputs": [
    {
     "data": {
      "image/png": "[encoded data removed]",
      "text/plain": [
       "<Figure size 432x288 with 1 Axes>"
      ]
     },
     "metadata": {
      "needs_background": "light"
     },
     "output_type": "display_data"
    }
   ],
   "source": [
    "# boxplot algorithm comparison with user dataframe\n",
    "fig = plt.figure()\n",
    "ax = fig.add_subplot(111)\n",
    "plt.boxplot(u1_results)\n",
    "plt.ylim(0.45, 1)\n",
    "ax.set_xticklabels(names)\n",
    "plt.show()"
   ]
  },
  {
   "cell_type": "code",
   "execution_count": 47,
   "metadata": {},
   "outputs": [
    {
     "name": "stdout",
     "output_type": "stream",
     "text": [
      "NB: 0.986750 (0.002839)\n",
      "RF: 0.984900 (0.003590)\n",
      "ETC: 0.985300 (0.003132)\n"
     ]
    },
    {
     "data": {
      "image/png": "[encoded data removed]",
      "text/plain": [
       "<Figure size 432x288 with 1 Axes>"
      ]
     },
     "metadata": {
      "needs_background": "light"
     },
     "output_type": "display_data"
    }
   ],
   "source": [
    "# evaluate each model in turn for hashtag bow dataframe\n",
    "h1_results = []\n",
    "names = []\n",
    "scoring = 'accuracy'\n",
    "for name, model in models:\n",
    "    kfold = model_selection.KFold(n_splits=10, random_state=seed, shuffle=True)\n",
    "    h1_cv_results = model_selection.cross_val_score(model, x_bow_ent, y_bow_ent, cv=kfold, scoring=scoring)\n",
    "    h1_results.append(h1_cv_results)\n",
    "    names.append(name)\n",
    "    msg = \"%s: %f (%f)\" % (name, h1_cv_results.mean(), h1_cv_results.std())\n",
    "    print(msg)"
   ]
  },
  {
   "cell_type": "code",
   "execution_count": 53,
   "metadata": {},
   "outputs": [
    {
     "data": {
      "image/png": "[encoded data removed]",
      "text/plain": [
       "<Figure size 432x288 with 1 Axes>"
      ]
     },
     "metadata": {
      "needs_background": "light"
     },
     "output_type": "display_data"
    }
   ],
   "source": [
    "# boxplot algorithm comparison for hashtags bow dataframe\n",
    "fig = plt.figure()\n",
    "ax = fig.add_subplot(111)\n",
    "plt.boxplot(h1_results)\n",
    "plt.ylim(0.95, 1)\n",
    "ax.set_xticklabels(names)\n",
    "plt.show()"
   ]
  },
  {
   "cell_type": "code",
   "execution_count": 48,
   "metadata": {},
   "outputs": [
    {
     "name": "stdout",
     "output_type": "stream",
     "text": [
      "NB: 0.982850 (0.003369)\n",
      "RF: 0.985000 (0.003332)\n",
      "ETC: 0.985650 (0.003025)\n"
     ]
    },
    {
     "data": {
      "image/png": "[encoded data removed]",
      "text/plain": [
       "<Figure size 432x288 with 1 Axes>"
      ]
     },
     "metadata": {
      "needs_background": "light"
     },
     "output_type": "display_data"
    }
   ],
   "source": [
    "# evaluate each model in turn for hashtag tf dataframe\n",
    "h2_results = []\n",
    "names = []\n",
    "scoring = 'accuracy'\n",
    "for name, model in models:\n",
    "    kfold = model_selection.KFold(n_splits=10, random_state=seed, shuffle=True)\n",
    "    h2_cv_results = model_selection.cross_val_score(model, x_tf_ent, y_tf_ent, cv=kfold, scoring=scoring)\n",
    "    h2_results.append(h2_cv_results)\n",
    "    names.append(name)\n",
    "    msg = \"%s: %f (%f)\" % (name, h2_cv_results.mean(), h2_cv_results.std())\n",
    "    print(msg)\n",
    "    \n",
    "# boxplot algorithm comparison\n",
    "fig = plt.figure()\n",
    "fig.suptitle('Algorithm Comparison with Tf-idf - Entity subset')\n",
    "ax = fig.add_subplot(111)\n",
    "plt.boxplot(h2_results)\n",
    "ax.set_xticklabels(names)\n",
    "plt.show()"
   ]
  },
  {
   "cell_type": "code",
   "execution_count": 52,
   "metadata": {
    "scrolled": true
   },
   "outputs": [
    {
     "data": {
      "image/png": "[encoded data removed]",
      "text/plain": [
       "<Figure size 432x288 with 1 Axes>"
      ]
     },
     "metadata": {
      "needs_background": "light"
     },
     "output_type": "display_data"
    }
   ],
   "source": [
    "# boxplot algorithm comparison with hashtags tf-idf dataframe\n",
    "fig = plt.figure()\n",
    "ax = fig.add_subplot(111)\n",
    "plt.boxplot(h2_results)\n",
    "plt.ylim(0.95, 1)\n",
    "ax.set_xticklabels(names)\n",
    "plt.show()"
   ]
  },
  {
   "cell_type": "markdown",
   "metadata": {},
   "source": [
    "FINAL FULL DATASET MODEL EVALUATION"
   ]
  },
  {
   "cell_type": "code",
   "execution_count": null,
   "metadata": {},
   "outputs": [],
   "source": [
    "dfbow = pd.concat([dfbow, textbow], axis=1)\n",
    "dftf = pd.concat([dftf, texttf], axis=1)"
   ]
  },
  {
   "cell_type": "code",
   "execution_count": 15,
   "metadata": {
    "execution": {
     "iopub.execute_input": "2022-05-03T15:51:31.223449Z",
     "iopub.status.busy": "2022-05-03T15:51:31.222508Z",
     "iopub.status.idle": "2022-05-03T15:51:31.230601Z",
     "shell.execute_reply": "2022-05-03T15:51:31.22973Z",
     "shell.execute_reply.started": "2022-05-03T15:51:31.223407Z"
    }
   },
   "outputs": [],
   "source": [
    "# preparing data for split - BoW\n",
    "data_Xbow = dfbow[[col for col in dfbow.columns if col != 'sentiment']]\n",
    "data_Ybow = dfbow['sentiment'] "
   ]
  },
  {
   "cell_type": "code",
   "execution_count": 16,
   "metadata": {},
   "outputs": [],
   "source": [
    "# preparing data for split - Tf-idf\n",
    "data_Xtf = dftf[[col for col in dftf.columns if col != 'sentiment']]\n",
    "data_Ytf = dftf['sentiment'] "
   ]
  },
  {
   "cell_type": "code",
   "execution_count": 18,
   "metadata": {
    "execution": {
     "iopub.execute_input": "2022-05-03T15:51:52.56399Z",
     "iopub.status.busy": "2022-05-03T15:51:52.563707Z",
     "iopub.status.idle": "2022-05-03T15:51:52.604932Z",
     "shell.execute_reply": "2022-05-03T15:51:52.604011Z",
     "shell.execute_reply.started": "2022-05-03T15:51:52.563955Z"
    }
   },
   "outputs": [
    {
     "name": "stdout",
     "output_type": "stream",
     "text": [
      "NB: 0.543600 (0.007677)\n",
      "RF: 0.894600 (0.003499)\n",
      "ETC: 0.842750 (0.007414)\n"
     ]
    }
   ],
   "source": [
    "# evaluate each model in turn for full final bow dataframe\n",
    "f1_results = []\n",
    "names = []\n",
    "scoring = 'accuracy'\n",
    "for name, model in models:\n",
    "    kfold = model_selection.KFold(n_splits=10, random_state=seed, shuffle=True)\n",
    "    f1_cv_results = model_selection.cross_val_score(model, data_Xbow, data_Ybow, cv=kfold, scoring=scoring)\n",
    "    f1_results.append(f1_cv_results)\n",
    "    names.append(name)\n",
    "    msg = \"%s: %f (%f)\" % (name, f1_cv_results.mean(), f1_cv_results.std())\n",
    "    print(msg)"
   ]
  },
  {
   "cell_type": "code",
   "execution_count": 23,
   "metadata": {},
   "outputs": [
    {
     "data": {
      "image/png": "[encoded data removed]",
      "text/plain": [
       "<Figure size 432x288 with 1 Axes>"
      ]
     },
     "metadata": {
      "needs_background": "light"
     },
     "output_type": "display_data"
    }
   ],
   "source": [
    "# boxplot algorithm comparison with full final bow dataset\n",
    "fig = plt.figure()\n",
    "ax = fig.add_subplot(111)\n",
    "plt.boxplot(f1_results)\n",
    "plt.ylim(0.5, 1)\n",
    "ax.set_xticklabels(names)\n",
    "plt.show()"
   ]
  },
  {
   "cell_type": "code",
   "execution_count": 20,
   "metadata": {},
   "outputs": [
    {
     "name": "stdout",
     "output_type": "stream",
     "text": [
      "NB: 0.543600 (0.007677)\n",
      "RF: 0.893700 (0.005984)\n",
      "ETC: 0.869900 (0.006480)\n"
     ]
    }
   ],
   "source": [
    "# evaluate each model in turn for full tf-idf dataframe\n",
    "f2_results = []\n",
    "names = []\n",
    "scoring = 'accuracy'\n",
    "for name, model in models:\n",
    "    kfold = model_selection.KFold(n_splits=10, random_state=seed, shuffle=True)\n",
    "    f2_cv_results = model_selection.cross_val_score(model, data_Xtf, data_Ytf, cv=kfold, scoring=scoring)\n",
    "    f2_results.append(f2_cv_results)\n",
    "    names.append(name)\n",
    "    msg = \"%s: %f (%f)\" % (name, f2_cv_results.mean(), f2_cv_results.std())\n",
    "    print(msg)"
   ]
  },
  {
   "cell_type": "code",
   "execution_count": 22,
   "metadata": {
    "scrolled": false
   },
   "outputs": [
    {
     "data": {
      "image/png": "[encoded data removed]",
      "text/plain": [
       "<Figure size 432x288 with 1 Axes>"
      ]
     },
     "metadata": {
      "needs_background": "light"
     },
     "output_type": "display_data"
    }
   ],
   "source": [
    "# boxplot algorithm comparison with full tf-idf dataframe\n",
    "fig = plt.figure()\n",
    "ax = fig.add_subplot(111)\n",
    "plt.boxplot(f2_results)\n",
    "plt.ylim(0.5, 1)\n",
    "ax.set_xticklabels(names)\n",
    "plt.show()"
   ]
  },
  {
   "cell_type": "code",
   "execution_count": null,
   "metadata": {},
   "outputs": [],
   "source": []
  }
 ],
 "metadata": {
  "colab": {
   "name": "EDA_code.ipynb",
   "provenance": [],
   "toc_visible": true
  },
  "kernelspec": {
   "display_name": "Python 3",
   "language": "python",
   "name": "python3"
  },
  "language_info": {
   "codemirror_mode": {
    "name": "ipython",
    "version": 3
   },
   "file_extension": ".py",
   "mimetype": "text/x-python",
   "name": "python",
   "nbconvert_exporter": "python",
   "pygments_lexer": "ipython3",
   "version": "3.8.5"
  }
 },
 "nbformat": 4,
 "nbformat_minor": 1
}
